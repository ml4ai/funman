{
 "cells": [
  {
   "cell_type": "code",
   "execution_count": 3,
   "metadata": {},
   "outputs": [],
   "source": [
    "# add resources/utils to the python path\n",
    "import sys\n",
    "utils_path = os.path.abspath(os.path.join('..', 'resources', 'utils'))\n",
    "if utils_path not in sys.path:\n",
    "    sys.path.append(utils_path)\n",
    "\n",
    "# util imports\n",
    "from sim.CHIME.CHIME_SIR import main as run_CHIME_SIR\n",
    "from sim.CHIME.CHIME_SIR_sir_function import main as run_CHIME_SIR_BL\n",
    "\n",
    "# standard imports\n",
    "from funman.parameter_space import ParameterSpace\n",
    "from funman.simulator import query_simulator\n",
    "from gromet2smtlib.translate import QueryableGromet, QueryableBilayer\n",
    "\n",
    "from pysmt.shortcuts import get_model, And, Symbol, FunctionType, Function, Equals, Int, Real, substitute, TRUE, FALSE, Iff, Plus, ForAll, LT, simplify\n",
    "from pysmt.typing import INT, REAL, BOOL\n",
    "\n",
    "import unittest\n",
    "import os"
   ]
  },
  {
   "cell_type": "code",
   "execution_count": 4,
   "metadata": {},
   "outputs": [],
   "source": [
    "RESOURCES = \"../resources\"\n",
    "GROMET_FILE_1 = os.path.join(RESOURCES, \"CHIME_SIR_while_loop--Gromet-FN-auto.json\")\n",
    "GROMET_FILE_2 = os.path.join(RESOURCES, \"CHIME_SIR_while_loop--Gromet-FN-auto-one-epoch.json\")"
   ]
  },
  {
   "cell_type": "code",
   "execution_count": 5,
   "metadata": {},
   "outputs": [
    {
     "ename": "AttributeError",
     "evalue": "'QueryableGromet' object has no attribute 'synthesize_parameters'",
     "output_type": "error",
     "traceback": [
      "\u001b[0;31m---------------------------------------------------------------------------\u001b[0m",
      "\u001b[0;31mAttributeError\u001b[0m                            Traceback (most recent call last)",
      "Cell \u001b[0;32mIn [5], line 24\u001b[0m\n\u001b[1;32m     21\u001b[0m infected_threshold \u001b[38;5;241m=\u001b[39m \u001b[38;5;241m130\u001b[39m\n\u001b[1;32m     22\u001b[0m \u001b[38;5;66;03m############################ Evaluate Models ###################################\u001b[39;00m\n\u001b[1;32m     23\u001b[0m \u001b[38;5;66;03m# get parameter space for the original (3 epochs)\u001b[39;00m\n\u001b[0;32m---> 24\u001b[0m ps_b1_b2_b3 \u001b[38;5;241m=\u001b[39m \u001b[43mgromet_org\u001b[49m\u001b[38;5;241;43m.\u001b[39;49m\u001b[43msynthesize_parameters\u001b[49m(\u001b[38;5;124mf\u001b[39m\u001b[38;5;124m\"\u001b[39m\u001b[38;5;124m(forall ((t Int)) (<= (I t) \u001b[39m\u001b[38;5;132;01m{\u001b[39;00minfected_threshold\u001b[38;5;132;01m}\u001b[39;00m\u001b[38;5;124m))\u001b[39m\u001b[38;5;124m\"\u001b[39m)\n\u001b[1;32m     25\u001b[0m \u001b[38;5;66;03m# get parameter space for the constant beta variant\u001b[39;00m\n\u001b[1;32m     26\u001b[0m ps_bc \u001b[38;5;241m=\u001b[39m gromet_sub\u001b[38;5;241m.\u001b[39msynthesize_parameters(\u001b[38;5;124mf\u001b[39m\u001b[38;5;124m\"\u001b[39m\u001b[38;5;124m(forall ((t Int)) (<= (I t) \u001b[39m\u001b[38;5;132;01m{\u001b[39;00minfected_threshold\u001b[38;5;132;01m}\u001b[39;00m\u001b[38;5;124m))\u001b[39m\u001b[38;5;124m\"\u001b[39m)\n",
      "\u001b[0;31mAttributeError\u001b[0m: 'QueryableGromet' object has no attribute 'synthesize_parameters'"
     ]
    }
   ],
   "source": [
    "\"\"\"\n",
    "This test constructs two formulations of the CHIME model:\n",
    "\n",
    "   - the original model where Beta is a epoch-dependent constant over three\n",
    "   epochs (i.e., a triple of parameters)\n",
    "\n",
    "   - a modified variant of the original model using a single constant Beta over\n",
    "   the entire simulation (akin to a single epoch).\n",
    "\n",
    "It then compares the models by determining that the respective spaces of\n",
    "feasible parameter values intersect.\n",
    "\"\"\"\n",
    "############################ Prepare Models ####################################\n",
    "# read in the gromet files\n",
    "# GROMET_FILE_1 is the original GroMEt extracted from the simulator\n",
    "# It sets N_p = 3 and n_days = 20, resulting in three epochs of 0, 20, and 20 days\n",
    "gromet_org = QueryableGromet.from_gromet_file(GROMET_FILE_1)\n",
    "# GROMET_FILE_2 modifes sets N_p = 2 and n_days = 40, resulting in one epoch of 40 days\n",
    "gromet_sub = QueryableGromet.from_gromet_file(GROMET_FILE_2)\n",
    "# Scenario query threshold\n",
    "infected_threshold = 130\n",
    "############################ Evaluate Models ###################################\n",
    "# get parameter space for the original (3 epochs)\n",
    "ps_b1_b2_b3 = gromet_org.synthesize_parameters(f\"(forall ((t Int)) (<= (I t) {infected_threshold}))\")\n",
    "# get parameter space for the constant beta variant\n",
    "ps_bc = gromet_sub.synthesize_parameters(f\"(forall ((t Int)) (<= (I t) {infected_threshold}))\")\n",
    "\n",
    "############################ Compare Models ####################################\n",
    "# construct special parameter space where parameters are equal\n",
    "ps_eq = ParameterSpace.construct_all_equal(ps_b1_b2_b3)\n",
    "# intersect the original parameter space with the ps_eq to get the\n",
    "# valid parameter space where (b1 == b2 == b3)\n",
    "ps = ParameterSpace.intersect(ps_b1_b2_b3, ps_eq)\n",
    "# assert the parameters spaces for the original and the constant beta\n",
    "# variant are the same\n",
    "#assert(ParameterSpace.compare(ps_bc, ps))"
   ]
  },
  {
   "cell_type": "code",
   "execution_count": 6,
   "metadata": {},
   "outputs": [],
   "source": [
    "def compare_against_CHIME_FN(gromet_path, infected_threshold):\n",
    "    \"\"\"\n",
    "    This function compares the simulator and FUNMAN reasoning about the CHIME\n",
    "    SIR model.  The query_simulator function executes the simulator main() as\n",
    "    run_CHIME_SIR, and answers the does_not_cross_threshold() query using the\n",
    "    simulation results.  The QueryableGromet class constructs a model from the\n",
    "    GroMEt file corresponding to the simulator, and answers a query with the\n",
    "    model.  The query for both cases asks whether the number of infected at any\n",
    "    time point exceed a specified threshold.  The test will succeed if the\n",
    "    simulator and QueryableGromet class agree on the response to the query.  \n",
    "    \n",
    "    Args:\n",
    "        infected_threshold (int): The upper bound for the number of infected for any time point.      \n",
    "    Returns:\n",
    "        bool: Do the simulator and QueryableGromet results match?\n",
    "    \"\"\"\n",
    "    # query the simulator\n",
    "    def does_not_cross_threshold(sim_results):\n",
    "        i = sim_results[2]\n",
    "        return all(i_t <= infected_threshold for i_t in i)\n",
    "    q_sim = query_simulator(run_CHIME_SIR, does_not_cross_threshold)\n",
    "    # query the gromet file\n",
    "    gromet = QueryableGromet.from_gromet_file(gromet_path)\n",
    "    q_gromet = gromet.query(f\"(forall ((t Int)) (<= (I t) {infected_threshold}))\")\n",
    "    # assert the both queries returned the same result\n",
    "    return  q_sim == q_gromet"
   ]
  },
  {
   "cell_type": "code",
   "execution_count": 7,
   "metadata": {},
   "outputs": [
    {
     "name": "stdout",
     "output_type": "stream",
     "text": [
      "s_n: 806.1042478004072\n",
      "i_n: 120.8076619511338\n",
      "r_n: 75.088090248459\n",
      "E: [2, 2.067857142857143, 2.135467350628644, 2.2028312269522377, 2.2699493765097256, 2.336822405000486, 2.403450919115151, 2.4698355265094607, 2.5359768357782975, 2.6018754564298945, 2.667531998860216, 2.732947074327523, 2.7981212949271037, 2.8630552735661876, 2.9277496239390333, 2.9922049605021908, 3.0564218984499396, 3.1204010536899034, 3.1841430428188353, 3.2476484830985877, 3.3109179924322456, 3.5051753287837535, 3.7260841164428546, 3.977285156398101, 4.262912006758591, 4.587656321669678, 4.95684145580987, 5.3765052615712765, 5.853493073608701, 6.395561935605904, 7.011497171349971, 7.711242429149318, 8.506044325529986, 9.40861276828314, 10.433297933929914, 11.59628468965819, 12.915804958539258, 14.41236809679874, 16.109008743291326, 18.0315507662581, 20.20888481455726, 22.673255515119525, 25.460552473490456, 28.610596853765703, 32.167412362753566, 36.17946587530282, 40.69985867115213, 45.78644430904047, 51.50184361194353, 57.91332125488886, 65.09248236103554, 73.11474185172676, 82.05851484678891, 92.00407425910736, 103.03202328403212, 115.22133746220939, 128.64694530637638, 143.37684002554772, 159.46874917492514, 176.9664347303744, 195.89575219959278, 0.0, 0.0, 0.0, 0.0, 0.0, 0.0, 0.0, 0.0, 0.0, 0.0, 0.0, 0.0, 0.0, 0.0, 0.0, 0.0, 0.0, 0.0, 0.0, 0.0, 0.0, 0.0, 0.0, 0.0, 0.0, 0.0, 0.0, 0.0, 0.0, 0.0, 0.0, 0.0, 0.0, 0.0, 0.0, 0.0, 0.0, 0.0, 0.0, 0.0, 0.0, 0.0, 0.0, 0.0, 0.0, 0.0, 0.0, 0.0, 0.0, 0.0, 0.0, 0.0, 0.0, 0.0, 0.0, 0.0, 0.0, 0.0, 0.0, 0.0]\n"
     ]
    },
    {
     "data": {
      "text/plain": [
       "True"
      ]
     },
     "execution_count": 7,
     "metadata": {},
     "output_type": "execute_result"
    }
   ],
   "source": [
    "\"\"\"\n",
    "\n",
    "\"\"\"\n",
    "infected_threshold = 130\n",
    "compare_against_CHIME_FN(GROMET_FILE_1, infected_threshold)"
   ]
  },
  {
   "cell_type": "code",
   "execution_count": 8,
   "metadata": {},
   "outputs": [
    {
     "name": "stdout",
     "output_type": "stream",
     "text": [
      "s_n: 806.1042478004072\n",
      "i_n: 120.8076619511338\n",
      "r_n: 75.088090248459\n",
      "E: [2, 2.067857142857143, 2.135467350628644, 2.2028312269522377, 2.2699493765097256, 2.336822405000486, 2.403450919115151, 2.4698355265094607, 2.5359768357782975, 2.6018754564298945, 2.667531998860216, 2.732947074327523, 2.7981212949271037, 2.8630552735661876, 2.9277496239390333, 2.9922049605021908, 3.0564218984499396, 3.1204010536899034, 3.1841430428188353, 3.2476484830985877, 3.3109179924322456, 3.5051753287837535, 3.7260841164428546, 3.977285156398101, 4.262912006758591, 4.587656321669678, 4.95684145580987, 5.3765052615712765, 5.853493073608701, 6.395561935605904, 7.011497171349971, 7.711242429149318, 8.506044325529986, 9.40861276828314, 10.433297933929914, 11.59628468965819, 12.915804958539258, 14.41236809679874, 16.109008743291326, 18.0315507662581, 20.20888481455726, 22.673255515119525, 25.460552473490456, 28.610596853765703, 32.167412362753566, 36.17946587530282, 40.69985867115213, 45.78644430904047, 51.50184361194353, 57.91332125488886, 65.09248236103554, 73.11474185172676, 82.05851484678891, 92.00407425910736, 103.03202328403212, 115.22133746220939, 128.64694530637638, 143.37684002554772, 159.46874917492514, 176.9664347303744, 195.89575219959278, 0.0, 0.0, 0.0, 0.0, 0.0, 0.0, 0.0, 0.0, 0.0, 0.0, 0.0, 0.0, 0.0, 0.0, 0.0, 0.0, 0.0, 0.0, 0.0, 0.0, 0.0, 0.0, 0.0, 0.0, 0.0, 0.0, 0.0, 0.0, 0.0, 0.0, 0.0, 0.0, 0.0, 0.0, 0.0, 0.0, 0.0, 0.0, 0.0, 0.0, 0.0, 0.0, 0.0, 0.0, 0.0, 0.0, 0.0, 0.0, 0.0, 0.0, 0.0, 0.0, 0.0, 0.0, 0.0, 0.0, 0.0, 0.0, 0.0, 0.0]\n"
     ]
    },
    {
     "data": {
      "text/plain": [
       "False"
      ]
     },
     "execution_count": 8,
     "metadata": {},
     "output_type": "execute_result"
    }
   ],
   "source": [
    "\"\"\"\n",
    "\n",
    "\"\"\"\n",
    "infected_threshold = 100\n",
    "compare_against_CHIME_FN(GROMET_FILE_1, infected_threshold)"
   ]
  },
  {
   "cell_type": "code",
   "execution_count": 9,
   "metadata": {},
   "outputs": [],
   "source": [
    "def compare_against_CHIME_bilayer(infected_threshold):\n",
    "    \"\"\"\n",
    "    This function compares the simulator and FUNMAN reasoning about the CHIME\n",
    "    SIR model.  The query_simulator function executes the simulator main() as\n",
    "    run_CHIME_SIR, and answers the does_not_cross_threshold() query using the\n",
    "    simulation results.  The QueryableBilayer class constructs a model from the\n",
    "    Bilayer file corresponding to the simulator, and answers a query with the\n",
    "    model.  The query for both cases asks whether the number of infected exceed\n",
    "    a specified threshold.  The test will succeed if the simulator and\n",
    "    QueryableBilayer class agree on the response to the query.  \n",
    "    \n",
    "    Args:\n",
    "        infected_threshold (int): The upper bound for the number of infected.      \n",
    "    Returns:\n",
    "        bool: Do the simulator and QueryableGromet results match?\n",
    "    \"\"\"\n",
    "    # query the simulator\n",
    "    def does_not_cross_threshold(sim_results):\n",
    "        i = sim_results[1]\n",
    "        return (i <= 5)\n",
    "    q_sim = query_simulator(run_CHIME_SIR_BL, does_not_cross_threshold)\n",
    "    print(\"q_sim\", q_sim)\n",
    "    # query the gromet file\n",
    "    q_bilayer = QueryableBilayer.query(f\"(i <= 5)\")\n",
    "    print(\"q_bilayer\", q_bilayer)\n",
    "    # assert the both queries returned the same result\n",
    "    return  q_sim == q_bilayer"
   ]
  },
  {
   "cell_type": "code",
   "execution_count": 10,
   "metadata": {},
   "outputs": [
    {
     "name": "stdout",
     "output_type": "stream",
     "text": [
      "(s,i,r)= (90.0, 10.7, 0.3)\n",
      "q_sim False\n",
      "q_bilayer False\n"
     ]
    },
    {
     "data": {
      "text/plain": [
       "True"
      ]
     },
     "execution_count": 10,
     "metadata": {},
     "output_type": "execute_result"
    }
   ],
   "source": [
    "\"\"\"\n",
    "\n",
    "\"\"\"\n",
    "infected_threshold = 100\n",
    "compare_against_CHIME_bilayer(infected_threshold)"
   ]
  },
  {
   "cell_type": "code",
   "execution_count": 11,
   "metadata": {},
   "outputs": [
    {
     "name": "stdout",
     "output_type": "stream",
     "text": [
      "PHI:\n",
      " (('exp0.fn.pof[0]' = 'exp0.fn.bf[0].value.fn.opo[0]') & (exp0.fn.x = 'exp0.fn.pof[0]') & ((('exp0.fn.bf[0].value.fn.pof[0]' = 'exp0.fn.bf[0].value.fn.bf[0].value') & ('exp0.fn.bf[0].value.fn.bf[0].value' = 2)) & ('exp0.fn.bf[0].value.fn.opo[0]' = 'exp0.fn.bf[0].value.fn.pof[0]')))\n",
      "MODEL:\n",
      " 'exp0.fn.pof[0]' := 2\n",
      "'exp0.fn.bf[0].value.fn.opo[0]' := 2\n",
      "'exp0.fn.bf[0].value.fn.bf[0].value' := 2\n",
      "'exp0.fn.bf[0].value.fn.pof[0]' := 2\n",
      "exp0.fn.x := 2\n"
     ]
    }
   ],
   "source": [
    "\"\"\"\n",
    "Encoding for `x = 2`\n",
    "\"\"\"\n",
    "gFile = os.path.join(RESOURCES, \"gromet\", \"exp0--Gromet-FN-auto.json\")\n",
    "\n",
    "\n",
    "fn = QueryableGromet.from_gromet_file(gFile)\n",
    "#print(fn._gromet_fn)\n",
    "phi = fn.to_smtlib()\n",
    "print(\"PHI:\\n\", phi)\n",
    "model = get_model(phi)\n",
    "assert(model) # Is phi satisfiable?\n",
    "print(\"MODEL:\\n\", model)\n",
    "assert(model.get_py_value(Symbol('exp0.fn.x', INT)) == 2) # Did the model get the right assignment?"
   ]
  }
 ],
 "metadata": {
  "kernelspec": {
   "display_name": "Python 3.9.5 ('.venv': pipenv)",
   "language": "python",
   "name": "python3"
  },
  "language_info": {
   "codemirror_mode": {
    "name": "ipython",
    "version": 3
   },
   "file_extension": ".py",
   "mimetype": "text/x-python",
   "name": "python",
   "nbconvert_exporter": "python",
   "pygments_lexer": "ipython3",
   "version": "3.9.5"
  },
  "orig_nbformat": 4,
  "vscode": {
   "interpreter": {
    "hash": "45720d29ca68f32dfc3d94e1c931aff8101fc80ce578a62447c861fdabbca0a8"
   }
  }
 },
 "nbformat": 4,
 "nbformat_minor": 2
}
