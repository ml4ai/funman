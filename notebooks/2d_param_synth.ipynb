{
 "cells": [
  {
   "cell_type": "code",
   "execution_count": 1,
   "metadata": {},
   "outputs": [],
   "source": [
    "from funman import funman\n",
    "\n",
    "from pysmt.typing import INT, REAL, BOOL\n",
    "from pysmt.shortcuts import get_model, And, Or, Symbol, Real, GT, LE, GE, Equals, Plus, Times, Minus\n",
    "import os\n",
    "\n",
    "\n",
    "%load_ext autoreload\n",
    "%autoreload 2"
   ]
  },
  {
   "cell_type": "code",
   "execution_count": 2,
   "metadata": {},
   "outputs": [
    {
     "ename": "AttributeError",
     "evalue": "module 'funman' has no attribute 'Parameter'",
     "output_type": "error",
     "traceback": [
      "\u001b[0;31m---------------------------------------------------------------------------\u001b[0m",
      "\u001b[0;31mAttributeError\u001b[0m                            Traceback (most recent call last)",
      "Cell \u001b[0;32mIn [2], line 3\u001b[0m\n\u001b[1;32m      1\u001b[0m x \u001b[38;5;241m=\u001b[39m Symbol(\u001b[38;5;124m\"\u001b[39m\u001b[38;5;124mx\u001b[39m\u001b[38;5;124m\"\u001b[39m, REAL)\n\u001b[1;32m      2\u001b[0m y \u001b[38;5;241m=\u001b[39m Symbol(\u001b[38;5;124m\"\u001b[39m\u001b[38;5;124my\u001b[39m\u001b[38;5;124m\"\u001b[39m, REAL)\n\u001b[0;32m----> 3\u001b[0m parameters \u001b[38;5;241m=\u001b[39m [\u001b[43mfunman\u001b[49m\u001b[38;5;241;43m.\u001b[39;49m\u001b[43mParameter\u001b[49m(x), funman\u001b[38;5;241m.\u001b[39mParameter(y)]\n\u001b[1;32m      5\u001b[0m \u001b[38;5;66;03m# 0.0 < x < 5.0, 10.0 < y < 12.0\u001b[39;00m\n\u001b[1;32m      6\u001b[0m model \u001b[38;5;241m=\u001b[39m funman\u001b[38;5;241m.\u001b[39mModel(\n\u001b[1;32m      7\u001b[0m     Or(\n\u001b[1;32m      8\u001b[0m         And(\n\u001b[0;32m   (...)\u001b[0m\n\u001b[1;32m     24\u001b[0m         )\n\u001b[1;32m     25\u001b[0m     )\n",
      "\u001b[0;31mAttributeError\u001b[0m: module 'funman' has no attribute 'Parameter'"
     ]
    }
   ],
   "source": [
    "x = Symbol(\"x\", REAL)\n",
    "y = Symbol(\"y\", REAL)\n",
    "parameters = [funman.Parameter(x), funman.Parameter(y)]\n",
    "\n",
    "# 0.0 < x < 5.0, 10.0 < y < 12.0\n",
    "model = funman.Model(\n",
    "    Or(\n",
    "        And(\n",
    "            LE(x, Real(5.0)), \n",
    "            GE(x, Real(0.0)),\n",
    "            LE(y, Real(12.0)), \n",
    "            GE(y, Real(10.0)),\n",
    "            LE(Plus(x, y), Real(12.0)),\n",
    "            GE(Times(x, y), Real(10.0))\n",
    "            ),\n",
    "        And(\n",
    "            LE(x, Real(15.0)), \n",
    "            GE(x, Real(5.0)),\n",
    "            LE(y, Real(20.0)), \n",
    "            GE(y, Real(10.0)),\n",
    "            LE(Minus(x, y), Real(10.0)),\n",
    "            GE(Times(x, y), Real(100.0))\n",
    "            )\n",
    "        )\n",
    "    )\n",
    "\n",
    "scenario = funman.ParameterSynthesisScenario(parameters, model)\n",
    "fm = funman.Funman()\n",
    "result = fm.solve(scenario)"
   ]
  }
 ],
 "metadata": {
  "kernelspec": {
   "display_name": "Python 3.9.5 ('.venv': pipenv)",
   "language": "python",
   "name": "python3"
  },
  "language_info": {
   "codemirror_mode": {
    "name": "ipython",
    "version": 3
   },
   "file_extension": ".py",
   "mimetype": "text/x-python",
   "name": "python",
   "nbconvert_exporter": "python",
   "pygments_lexer": "ipython3",
   "version": "3.9.5"
  },
  "orig_nbformat": 4,
  "vscode": {
   "interpreter": {
    "hash": "45720d29ca68f32dfc3d94e1c931aff8101fc80ce578a62447c861fdabbca0a8"
   }
  }
 },
 "nbformat": 4,
 "nbformat_minor": 2
}
